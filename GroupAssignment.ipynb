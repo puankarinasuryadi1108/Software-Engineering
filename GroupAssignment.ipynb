{
  "nbformat": 4,
  "nbformat_minor": 0,
  "metadata": {
    "colab": {
      "name": "Untitled3.ipynb",
      "provenance": [],
      "toc_visible": true,
      "authorship_tag": "ABX9TyM2MzSBstmaYboXx2Vu9kmJ",
      "include_colab_link": true
    },
    "kernelspec": {
      "name": "python3",
      "display_name": "Python 3"
    },
    "language_info": {
      "name": "python"
    }
  },
  "cells": [
    {
      "cell_type": "markdown",
      "metadata": {
        "id": "view-in-github",
        "colab_type": "text"
      },
      "source": [
        "<a href=\"https://colab.research.google.com/github/puankarinasuryadi1108/Software-Engineering/blob/main/GroupAssignment.ipynb\" target=\"_parent\"><img src=\"https://colab.research.google.com/assets/colab-badge.svg\" alt=\"Open In Colab\"/></a>"
      ]
    },
    {
      "cell_type": "code",
      "metadata": {
        "colab": {
          "base_uri": "https://localhost:8080/"
        },
        "id": "FTaRQa782_sS",
        "outputId": "8ca5d7c3-75e8-42d8-8f6d-85af33e23bba"
      },
      "source": [
        "# Puan and Mera Assignment\n",
        "# Cek input user adalah kelipatan 3\n",
        "\n",
        "while True:\n",
        "  number = int(input(\"input the number:\"))\n",
        "  if (number % 3) != 0:\n",
        "    break"
      ],
      "execution_count": 1,
      "outputs": [
        {
          "name": "stdout",
          "output_type": "stream",
          "text": [
            "input the number:3\n",
            "input the number:6\n",
            "input the number:9\n",
            "input the number:11\n"
          ]
        }
      ]
    }
  ]
}